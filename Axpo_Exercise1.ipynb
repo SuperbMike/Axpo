{
 "cells": [
  {
   "cell_type": "code",
   "execution_count": 2,
   "metadata": {},
   "outputs": [
    {
     "name": "stdout",
     "output_type": "stream",
     "text": [
      "                   Date  Belpex Spot price, EUR/MWh  \\\n",
      "0      01/03/2023 00:00                      123.80   \n",
      "1   2023-03-01 00:15:00                      123.80   \n",
      "2   2023-03-01 00:30:00                      123.80   \n",
      "3   2023-03-01 00:45:00                      123.80   \n",
      "4   2023-03-01 01:00:00                      132.84   \n",
      "5   2023-03-01 01:15:00                      132.84   \n",
      "6   2023-03-01 01:30:00                      132.84   \n",
      "7   2023-03-01 01:45:00                      132.84   \n",
      "8   2023-03-01 02:00:00                      130.14   \n",
      "9   2023-03-01 02:15:00                      130.14   \n",
      "10  2023-03-01 02:30:00                      130.14   \n",
      "11  2023-03-01 02:45:00                      130.14   \n",
      "12  2023-03-01 03:00:00                      133.22   \n",
      "13  2023-03-01 03:15:00                      133.22   \n",
      "14  2023-03-01 03:30:00                      133.22   \n",
      "15  2023-03-01 03:45:00                      133.22   \n",
      "16  2023-03-01 04:00:00                      130.87   \n",
      "17  2023-03-01 04:15:00                      130.87   \n",
      "18  2023-03-01 04:30:00                      130.87   \n",
      "19  2023-03-01 04:45:00                      130.87   \n",
      "\n",
      "    Metered volume electricity, kW  Unnamed: 3  \\\n",
      "0                             87.5         NaN   \n",
      "1                             85.0         NaN   \n",
      "2                             77.5         NaN   \n",
      "3                             70.0         NaN   \n",
      "4                             70.0         NaN   \n",
      "5                             70.0         NaN   \n",
      "6                             72.5         NaN   \n",
      "7                             70.0         NaN   \n",
      "8                             72.5         NaN   \n",
      "9                             70.0         NaN   \n",
      "10                            72.5         NaN   \n",
      "11                            70.0         NaN   \n",
      "12                            70.0         NaN   \n",
      "13                            72.5         NaN   \n",
      "14                            72.5         NaN   \n",
      "15                            72.5         NaN   \n",
      "16                            72.5         NaN   \n",
      "17                            72.5         NaN   \n",
      "18                            72.5         NaN   \n",
      "19                            75.0         NaN   \n",
      "\n",
      "                                               Hedges      Unnamed: 5  \n",
      "0                    % of the volume which was hedged  Price, EUR/MWh  \n",
      "1                                                 0.3          122.18  \n",
      "2                                                 0.2          146.32  \n",
      "3                                                 0.1          155.54  \n",
      "4                                                 NaN             NaN  \n",
      "5                                                 NaN             NaN  \n",
      "6                                         Grid losses             NaN  \n",
      "7   Grid losses, %, https://www.elia.be/en/grid-da...           0.018  \n",
      "8                                                 NaN             NaN  \n",
      "9                                                 NaN             NaN  \n",
      "10                                                NaN             NaN  \n",
      "11                                                NaN             NaN  \n",
      "12                                                NaN             NaN  \n",
      "13                                                NaN             NaN  \n",
      "14                                                NaN             NaN  \n",
      "15                                                NaN             NaN  \n",
      "16                                                NaN             NaN  \n",
      "17                                                NaN             NaN  \n",
      "18                                                NaN             NaN  \n",
      "19                                                NaN             NaN  \n"
     ]
    }
   ],
   "source": [
    "import pandas as pd\n",
    "\n",
    "file_path = 'Axpo_FrontSupportAnalyst_Exercises.xlsx'\n",
    "df = pd.read_excel(file_path, sheet_name='Exercice1 (mandatory)', skiprows=12)\n",
    "print(df.head(20))\n",
    "\n"
   ]
  },
  {
   "cell_type": "code",
   "execution_count": 3,
   "metadata": {},
   "outputs": [
    {
     "name": "stdout",
     "output_type": "stream",
     "text": [
      "Table 1:\n",
      "                  Date  Belpex Spot Price (EUR/MWh)  Metered Volume (kW)\n",
      "0     01/03/2023 00:00                       123.80                 87.5\n",
      "1  2023-03-01 00:15:00                       123.80                 85.0\n",
      "2  2023-03-01 00:30:00                       123.80                 77.5\n",
      "3  2023-03-01 00:45:00                       123.80                 70.0\n",
      "4  2023-03-01 01:00:00                       132.84                 70.0\n",
      "(2972, 3)\n",
      "                  Date  Belpex Spot Price (EUR/MWh)  Metered Volume (kW)\n",
      "0     01/03/2023 00:00                       123.80                 87.5\n",
      "1  2023-03-01 00:15:00                       123.80                 85.0\n",
      "2  2023-03-01 00:30:00                       123.80                 77.5\n",
      "3  2023-03-01 00:45:00                       123.80                 70.0\n",
      "4  2023-03-01 01:00:00                       132.84                 70.0\n",
      "                            Date  Belpex Spot Price (EUR/MWh)  \\\n",
      "2967  2023-03-31 22:44:59.999000                        86.73   \n",
      "2968  2023-03-31 22:59:59.999000                        80.00   \n",
      "2969  2023-03-31 23:14:59.999000                        80.00   \n",
      "2970  2023-03-31 23:29:59.999000                        80.00   \n",
      "2971  2023-03-31 23:44:59.999000                        80.00   \n",
      "\n",
      "      Metered Volume (kW)  \n",
      "2967                 80.0  \n",
      "2968                 80.0  \n",
      "2969                 87.5  \n",
      "2970                 90.0  \n",
      "2971                100.0  \n"
     ]
    }
   ],
   "source": [
    "# Extract Table 1\n",
    "table1 = df.iloc[0:2985, 0:3].reset_index(drop=True)\n",
    "table1.columns = ['Date', 'Belpex Spot Price (EUR/MWh)', 'Metered Volume (kW)']\n",
    "\n",
    "\n",
    "print(\"Table 1:\")\n",
    "print(table1.head())\n",
    "print(table1.shape)  # Number of rows and columns\n",
    "print(table1.head())  \n",
    "print(table1.tail())  \n"
   ]
  },
  {
   "cell_type": "code",
   "execution_count": 4,
   "metadata": {},
   "outputs": [
    {
     "name": "stdout",
     "output_type": "stream",
     "text": [
      "Total Consumed Volume (MWh): 914.1225\n"
     ]
    }
   ],
   "source": [
    "# Calculate total consumed volume in MWh\n",
    "total_consumed_volume = table1['Metered Volume (kW)'].sum() / 1000  # Convert kW to MWh\n",
    "\n",
    "print(\"Total Consumed Volume (MWh):\", total_consumed_volume)\n"
   ]
  },
  {
   "cell_type": "code",
   "execution_count": 5,
   "metadata": {},
   "outputs": [
    {
     "name": "stdout",
     "output_type": "stream",
     "text": [
      "Total Volume of Grid Losses (MWh): 16.454205\n"
     ]
    }
   ],
   "source": [
    "# Define the grid losses percentage\n",
    "grid_losses_percentage = 1.80 / 100\n",
    "\n",
    "# Calculate total volume of grid losses in MWh\n",
    "total_grid_losses_volume = total_consumed_volume * grid_losses_percentage\n",
    "\n",
    "print(\"Total Volume of Grid Losses (MWh):\", total_grid_losses_volume)\n"
   ]
  },
  {
   "cell_type": "code",
   "execution_count": 9,
   "metadata": {},
   "outputs": [
    {
     "name": "stdout",
     "output_type": "stream",
     "text": [
      "Total Amount to be Invoiced (EUR): 115767.93533000001\n"
     ]
    }
   ],
   "source": [
    "# Hedging details from Table 2\n",
    "hedges = {\n",
    "    '30%': 122.18,\n",
    "    '20%': 146.32,\n",
    "    '10%': 155.54\n",
    "}\n",
    "\n",
    "# Calculate total hedged volume\n",
    "hedged_volume = (0.30 + 0.20 + 0.10) * total_consumed_volume\n",
    "\n",
    "# Calculate the invoiced amount for hedged volumes\n",
    "hedged_amount = (\n",
    "    0.30 * total_consumed_volume * hedges['30%'] +\n",
    "    0.20 * total_consumed_volume * hedges['20%'] +\n",
    "    0.10 * total_consumed_volume * hedges['10%']\n",
    ")\n",
    "\n",
    "# Calculate non-hedged volume\n",
    "non_hedged_volume = total_consumed_volume - hedged_volume\n",
    "\n",
    "# Calculate weighted average Belpex spot price\n",
    "weighted_avg_spot_price = (\n",
    "    (table1['Belpex Spot Price (EUR/MWh)'] * table1['Metered Volume (kW)']).sum() /\n",
    "    table1['Metered Volume (kW)'].sum()\n",
    ")\n",
    "\n",
    "# Calculate non-hedged amount\n",
    "additional_fee = 0.15\n",
    "non_hedged_amount = non_hedged_volume * (weighted_avg_spot_price + additional_fee)\n",
    "\n",
    "# Calculate total amount to invoice\n",
    "total_amount_to_invoice = hedged_amount + non_hedged_amount\n",
    "\n",
    "print(\"Total Amount to be Invoiced (EUR):\", total_amount_to_invoice)\n"
   ]
  }
 ],
 "metadata": {
  "kernelspec": {
   "display_name": "Python 3",
   "language": "python",
   "name": "python3"
  },
  "language_info": {
   "codemirror_mode": {
    "name": "ipython",
    "version": 3
   },
   "file_extension": ".py",
   "mimetype": "text/x-python",
   "name": "python",
   "nbconvert_exporter": "python",
   "pygments_lexer": "ipython3",
   "version": "3.10.11"
  }
 },
 "nbformat": 4,
 "nbformat_minor": 2
}
